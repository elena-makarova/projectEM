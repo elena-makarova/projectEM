{
  "nbformat": 4,
  "nbformat_minor": 0,
  "metadata": {
    "colab": {
      "name": "Project0",
      "provenance": []
    },
    "kernelspec": {
      "display_name": "Python 3",
      "name": "python3"
    }
  },
  "cells": [
    {
      "cell_type": "code",
      "metadata": {
        "colab": {
          "base_uri": "https://localhost:8080/"
        },
        "id": "b7fqLUoYc2OU",
        "outputId": "f06dc833-99c4-487d-99d7-da535febfb22"
      },
      "source": [
        "import numpy as np\n",
        "count = 0  # счетчик попыток\n",
        "number = np.random.randint(1, 101)  # загадали число\n",
        "print(\"Загадано число от 1 до 100\")\n",
        "\n",
        "\n",
        "def game_core_v3(number):\n",
        "    '''Сначала устанавливаем любое random число, а потом уменьшаем или увеличиваем его в зависимости от того, больше оно или меньше нужного.\n",
        "       Функция принимает загаданное число и возвращает число попыток'''\n",
        "    count = 1\n",
        "    #predict = np.random.randint(1,101)\n",
        "    allAnsvers = [x for x in range(1, 101)]\n",
        "    a = int(len(allAnsvers) / 2) - 1\n",
        "    predict = allAnsvers[a]\n",
        "    tempList = allAnsvers\n",
        "    while number != predict:\n",
        "        \n",
        "        count += 1\n",
        "        if predict > number:\n",
        "            tempList = tempList[0: a]\n",
        "            a = int(len(tempList) / 2) - 1\n",
        "        elif predict < number:\n",
        "            tempList = tempList[a:]\n",
        "            a = int(len(tempList) / 2)\n",
        "        predict = tempList[a]\n",
        "    return(count) # выход из цикла, если угадали\n",
        "\n",
        "\n",
        "def score_game(game_core):\n",
        "    '''Запускаем игру 1000 раз, чтобы узнать, как быстро игра угадывает число'''\n",
        "    count_ls = []\n",
        "    np.random.seed(1)  # фиксируем RANDOM SEED, чтобы ваш эксперимент был воспроизводим!\n",
        "    random_array = np.random.randint(1, 101, size=(1000))\n",
        "    for number in random_array:\n",
        "        count_ls.append(game_core(number))\n",
        "    score = int(np.mean(count_ls))\n",
        "    print(f\"Ваш алгоритм угадывает число в среднем за {score} попыток\")\n",
        "    return (score)\n",
        "\n",
        "\n",
        "# запускаем\n",
        " \n",
        "score_game(game_core_v3) "
      ],
      "execution_count": null,
      "outputs": [
        {
          "output_type": "stream",
          "text": [
            "Загадано число от 1 до 100\n",
            "Ваш алгоритм угадывает число в среднем за 6 попыток\n"
          ],
          "name": "stdout"
        },
        {
          "output_type": "execute_result",
          "data": {
            "text/plain": [
              "6"
            ]
          },
          "metadata": {
            "tags": []
          },
          "execution_count": 32
        }
      ]
    },
    {
      "cell_type": "code",
      "metadata": {
        "id": "1jIAWNfRcoHp"
      },
      "source": [
        "\n"
      ],
      "execution_count": null,
      "outputs": []
    }
  ]
}